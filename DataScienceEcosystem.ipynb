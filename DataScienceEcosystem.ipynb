{
 "cells": [
  {
   "cell_type": "markdown",
   "id": "38049189-7271-4427-ab27-42f9f495cf17",
   "metadata": {},
   "source": [
    "# Data Science Tools and Ecosystem"
   ]
  },
  {
   "cell_type": "markdown",
   "id": "529cf657-136d-489c-8d82-cee3b12aebc9",
   "metadata": {},
   "source": [
    "In this notebook, Data Science Tools and Ecosystem are summarized."
   ]
  },
  {
   "cell_type": "markdown",
   "id": "4e58c03d-b5f4-4fb2-aeae-9993b6ec961f",
   "metadata": {},
   "source": [
    "**Objectives**\n",
    "* List popular languages in Data Science\n",
    "* List commonly used libraries used by Data Scientists\n",
    "* List some typical Data Science Tools\n",
    "* Perform some simple arithmetic using Python"
   ]
  },
  {
   "cell_type": "markdown",
   "id": "7d5e66b6-b982-4cff-aedc-dc73d724f647",
   "metadata": {},
   "source": [
    "Some of the popular languages that Data Scientists use are:\n",
    "1. Python\n",
    "2. R\n",
    "3. SQL\n",
    "4. Julia"
   ]
  },
  {
   "cell_type": "markdown",
   "id": "ef481fc5-1967-4600-97fb-aa1d2e12dda2",
   "metadata": {},
   "source": [
    "Some of the commonly used libraries used by Data Scientists include:\n",
    "1. dplyr\n",
    "2. pandas\n",
    "3. sci-kit\n",
    "4. NumPy"
   ]
  },
  {
   "cell_type": "markdown",
   "id": "c0e7dcf0-de9b-4204-88a9-2288636564eb",
   "metadata": {},
   "source": [
    "|Data Science Tools|\n",
    "|------------------|\n",
    "|Hadoop|\n",
    "|TensorFlow|\n",
    "|Git|\n"
   ]
  },
  {
   "cell_type": "markdown",
   "id": "4a1d61c7-ac89-48df-a922-3e14b719c109",
   "metadata": {},
   "source": [
    "Below are a few examples of evaluating arithmetic expressions in Python."
   ]
  },
  {
   "cell_type": "code",
   "execution_count": 2,
   "id": "3f45245d-0ebd-40ed-8740-74efccf8a263",
   "metadata": {},
   "outputs": [
    {
     "data": {
      "text/plain": [
       "17"
      ]
     },
     "execution_count": 2,
     "metadata": {},
     "output_type": "execute_result"
    }
   ],
   "source": [
    "# This is a simple arithmetic expression to multiply then add integers\n",
    "(3*4)+5"
   ]
  },
  {
   "cell_type": "code",
   "execution_count": 3,
   "id": "551b6433-f57c-4c71-8edb-146120a78adc",
   "metadata": {},
   "outputs": [
    {
     "data": {
      "text/plain": [
       "3.3333333333333335"
      ]
     },
     "execution_count": 3,
     "metadata": {},
     "output_type": "execute_result"
    }
   ],
   "source": [
    "# This will convert 200 minutes to hours by diving by 60.\n",
    "200/60"
   ]
  },
  {
   "cell_type": "markdown",
   "id": "169c548f-5681-472d-afcb-0b753eea63c2",
   "metadata": {},
   "source": [
    "## Author\n",
    "Graham Heath"
   ]
  }
 ],
 "metadata": {
  "kernelspec": {
   "display_name": "Python 3 (ipykernel)",
   "language": "python",
   "name": "python3"
  },
  "language_info": {
   "codemirror_mode": {
    "name": "ipython",
    "version": 3
   },
   "file_extension": ".py",
   "mimetype": "text/x-python",
   "name": "python",
   "nbconvert_exporter": "python",
   "pygments_lexer": "ipython3",
   "version": "3.11.9"
  }
 },
 "nbformat": 4,
 "nbformat_minor": 5
}
